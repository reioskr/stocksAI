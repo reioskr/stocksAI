{
 "cells": [
  {
   "cell_type": "markdown",
   "metadata": {},
   "source": [
    "# Stock Analysis Notebook\n",
    "\n",
    "This Jupyter notebook is designed to analyze stocks based on various filters and sentiment analysis of news articles. \n",
    "\n",
    "## Dependencies Installation\n",
    "\n",
    "First, we need to install the necessary dependencies. Uncomment the lines below if you haven't installed these packages yet.\n",
    "\n"
   ]
  },
  {
   "cell_type": "code",
   "execution_count": null,
   "metadata": {},
   "outputs": [],
   "source": [
    "'''\n",
    "%pip install finvizfinance\n",
    "%pip install pandas\n",
    "%pip install transformers\n",
    "%pip install yfinance\n",
    "%pip install goose3\n",
    "%pip install requests\n",
    "%pip install ipywidgets\n",
    "%pip install torch\n",
    "%pip install tensorflow\n",
    "%pip install nltk\n",
    "import nltk\n",
    "nltk.download('punkt')\n",
    "'''"
   ]
  },
  {
   "cell_type": "markdown",
   "metadata": {},
   "source": [
    "\n",
    "\n",
    "## Import Libraries\n",
    "\n",
    "Next, we import the necessary libraries for our analysis.\n",
    "\n"
   ]
  },
  {
   "cell_type": "code",
   "execution_count": null,
   "metadata": {},
   "outputs": [],
   "source": [
    "from finvizfinance.screener.overview import Overview # type: ignore\n",
    "from finvizfinance.quote import finvizfinance        # type: ignore\n",
    "from IPython.display import display                  # type: ignore\n",
    "import pandas as pd                                  # type: ignore\n",
    "from transformers import pipeline                    # type: ignore\n",
    "import yfinance as yf                                # type: ignore\n",
    "from goose3 import Goose                             # type: ignore\n",
    "from requests import get                             # type: ignore\n",
    "from nltk.tokenize import sent_tokenize              # type: ignore\n",
    "from transformers import AutoTokenizer               # type: ignore\n",
    "from bs4 import BeautifulSoup                        # type: ignore\n",
    "import csv\n",
    "import os\n",
    "import warnings\n",
    "warnings.simplefilter(action='ignore', category=FutureWarning)\n",
    "pd.set_option('display.max_colwidth', None) # Display full text in pandas dataframe / no line wrapping"
   ]
  },
  {
   "cell_type": "markdown",
   "metadata": {},
   "source": [
    "\n",
    "\n",
    "## Stock Filtering\n",
    "\n",
    "We define our filters for selecting stocks. These filters can be modified as per your requirements.\n",
    "\n"
   ]
  },
  {
   "cell_type": "code",
   "execution_count": null,
   "metadata": {},
   "outputs": [],
   "source": [
    "FILTERS_DICT = {\n",
    "    'Performance': 'Today +10%',     # Day increase 10%\n",
    "    'Relative Volume': 'Over 5',       # High Relative Volume\n",
    "    'Price': 'Under $20',              # Price under 20 USD\n",
    "    'Float': 'Under 10M'               # Float under 10 million\n",
    "}"
   ]
  },
  {
   "cell_type": "markdown",
   "metadata": {},
   "source": [
    "\n",
    "\n",
    "## Fetching Filtered Stocks\n",
    "\n",
    "We define a function `get_filtered_stocks()` to fetch the stocks that meet our filter criteria.\n",
    "\n"
   ]
  },
  {
   "cell_type": "code",
   "execution_count": null,
   "metadata": {},
   "outputs": [],
   "source": [
    "def get_filtered_stocks():\n",
    "    \"\"\"\n",
    "    Returns a list of tickers with:\n",
    "\n",
    "    \"\"\"\n",
    "    \n",
    "    foverview = Overview()\n",
    "    foverview.set_filter(filters_dict=FILTERS_DICT)\n",
    "    df_overview = foverview.screener_view()\n",
    "    if not os.path.exists('out'): #ensures you have an 'out' folder ready\n",
    "        os.makedirs('out')\n",
    "    df_overview.to_csv('out/Overview.csv', index=False)\n",
    "    \n",
    "    tickers = df_overview['Ticker'].to_list()\n",
    "    display(df_overview)\n",
    "    return tickers"
   ]
  },
  {
   "cell_type": "markdown",
   "metadata": {},
   "source": [
    "\n",
    "\n",
    "## Sentiment Analysis\n",
    "\n",
    "We define a function `get_ticker_news_sentiment(ticker)` to perform sentiment analysis on the news articles of a given ticker.\n",
    "\n"
   ]
  },
  {
   "cell_type": "code",
   "execution_count": null,
   "metadata": {},
   "outputs": [],
   "source": [
    "def get_ticker_news_sentiment(ticker):\n",
    "    \"\"\"\n",
    "    Returns a Pandas dataframe of the given ticker's most recent news article headlines,\n",
    "    with the overal sentiment of each article.\n",
    "\n",
    "    Args:\n",
    "        ticker (string)\n",
    "\n",
    "    Returns:\n",
    "        pd.DataFrame: {'Date', 'Article title', Article sentiment'}\n",
    "    \"\"\"\n",
    "    # Rest of the code"
   ]
  },
  {
   "cell_type": "markdown",
   "metadata": {},
   "source": [
    "\n",
    "\n",
    "## Generate CSV\n",
    "\n",
    "We define a function `generate_csv(sentiment,ticker)` to generate a CSV file for each ticker's sentiment analysis.\n",
    "\n"
   ]
  },
  {
   "cell_type": "code",
   "execution_count": null,
   "metadata": {},
   "outputs": [],
   "source": [
    "def generate_csv(sentiment,ticker):\n",
    "    sentiment.to_csv(f'out/{ticker}.csv', index=False)"
   ]
  },
  {
   "cell_type": "markdown",
   "metadata": {},
   "source": [
    "\n",
    "\n",
    "## Fetch Sentiments and Generate CSVs\n",
    "\n",
    "We fetch the sentiments for each undervalued stock and generate a CSV file for each.\n",
    "\n"
   ]
  },
  {
   "cell_type": "code",
   "execution_count": null,
   "metadata": {},
   "outputs": [],
   "source": [
    "sentiments = []\n",
    "for ticker in undervalued:\n",
    "    sentiment = get_ticker_news_sentiment(ticker)\n",
    "    if sentiment is not None:\n",
    "        sentiments.append(sentiment)\n",
    "        generate_csv(sentiment,ticker)\n",
    "    else:\n",
    "        print(f'No news found for {ticker}')\n",
    "    print(f'{ticker} done, {len(undervalued) - undervalued.index(ticker) - 1} stock tickers left')"
   ]
  },
  {
   "cell_type": "markdown",
   "metadata": {},
   "source": [
    "\n",
    "\n",
    "## Display Sentiments\n",
    "\n",
    "Finally, we display the sentiments for each ticker.\n",
    "\n"
   ]
  },
  {
   "cell_type": "code",
   "execution_count": null,
   "metadata": {},
   "outputs": [],
   "source": [
    "for i in range(len(sentiments)):\n",
    "    display(sentiments[i])"
   ]
  },
  {
   "cell_type": "markdown",
   "metadata": {},
   "source": [
    "\n",
    "\n",
    "## Additional Code\n",
    "\n",
    "The following code snippets are not integrated into the main flow of the notebook but can be used for additional analysis.\n",
    "\n"
   ]
  },
  {
   "cell_type": "code",
   "execution_count": null,
   "metadata": {},
   "outputs": [],
   "source": [
    "quote = finvizfinance('SGE')\n",
    "df = quote.ticker_inside_trader()\n",
    "from datetime import datetime\n",
    "today = datetime.today().date()\n",
    "df = quote.ticker_news()\n",
    "df = df[df['Date'].dt.date == today]\n",
    "df\n",
    "df = quote.ticker_fundament()\n",
    "df"
   ]
  }
 ],
 "metadata": {
  "language_info": {
   "name": "python"
  }
 },
 "nbformat": 4,
 "nbformat_minor": 2
}
