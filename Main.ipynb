{
 "cells": [
  {
   "cell_type": "markdown",
   "metadata": {},
   "source": [
    "# Stock Analysis Notebook\n",
    "\n",
    "This Jupyter notebook is designed to analyze stocks based on various filters and sentiment analysis of news articles. \n",
    "\n",
    "## Dependencies Installation\n",
    "\n",
    "First, we need to install the necessary dependencies. Uncomment the lines below if you haven't installed these packages yet.\n",
    "\n"
   ]
  },
  {
   "cell_type": "code",
   "execution_count": 1,
   "metadata": {},
   "outputs": [
    {
     "data": {
      "text/plain": [
       "\"\\n%pip install finvizfinance pandas transformers yfinance goose3 requests ipywidgets torch tensorflow nltk\\nfrom IPython.display import display, Javascript\\ndisplay(Javascript('IPython.notebook.kernel.restart()'))\\n\\nimport nltk\\nnltk.download('punkt')\\n\\n\""
      ]
     },
     "execution_count": 1,
     "metadata": {},
     "output_type": "execute_result"
    }
   ],
   "source": [
    "'''\n",
    "%pip install finvizfinance pandas transformers yfinance goose3 requests ipywidgets torch tensorflow nltk tf-keras\n",
    "from IPython.display import display, Javascript\n",
    "display(Javascript('IPython.notebook.kernel.restart()'))\n",
    "\n",
    "import nltk\n",
    "nltk.download('punkt')\n",
    "\n",
    "'''"
   ]
  },
  {
   "cell_type": "markdown",
   "metadata": {},
   "source": [
    "\n",
    "\n",
    "## Import Libraries\n",
    "\n",
    "Next, we import the necessary libraries for our analysis.\n",
    "\n"
   ]
  },
  {
   "cell_type": "code",
   "execution_count": 2,
   "metadata": {},
   "outputs": [],
   "source": [
    "# Standard library imports\n",
    "from datetime import datetime, timedelta\n",
    "import warnings\n",
    "from requests.exceptions import HTTPError\n",
    "\n",
    "from finvizfinance.screener.overview import Overview # type: ignore\n",
    "from finvizfinance.quote import finvizfinance        # type: ignore\n",
    "from IPython.display import display                  # type: ignore\n",
    "import pandas as pd                                  # type: ignore\n",
    "from transformers import pipeline                    # type: ignore\n",
    "import yfinance as yf                                # type: ignore\n",
    "from goose3 import Goose                             # type: ignore\n",
    "from requests import get                             # type: ignore\n",
    "from nltk.tokenize import sent_tokenize              # type: ignore\n",
    "from transformers import AutoTokenizer               # type: ignore\n",
    "from bs4 import BeautifulSoup                        # type: ignore\n",
    "import csv\n",
    "import os\n",
    "warnings.simplefilter(action='ignore', category=FutureWarning)\n",
    "pd.set_option('display.max_colwidth', None) # Display full text in pandas dataframe / no line wrapping"
   ]
  },
  {
   "cell_type": "markdown",
   "metadata": {},
   "source": [
    "\n",
    "\n",
    "## Stock Filtering\n",
    "\n",
    "We define our filters for selecting stocks. These filters can be modified as per your requirements.\n",
    "\n"
   ]
  },
  {
   "cell_type": "code",
   "execution_count": 3,
   "metadata": {},
   "outputs": [
    {
     "data": {
      "text/plain": [
       "\"\\nFILTERS_DICT = {'Debt/Equity':'Under 1',                 # Positive Operating Margin\\n                'PEG':'Low (<1)',                        # Debt-to-Equity ratio under 1\\n                'Operating Margin':'Positive (>0%)',     # Low P/B (under 1)\\n                'P/B':'Low (<1)',                        # Low P/E ratio (under 15)\\n                'P/E':'Low (<15)',                       # Low PEG ratio (under 1)\\n                'InsiderTransactions':'Positive (>0%)<'} # Positive Insider Transactions\\n\""
      ]
     },
     "execution_count": 3,
     "metadata": {},
     "output_type": "execute_result"
    }
   ],
   "source": [
    "FILTERS_DICT = {\n",
    "    'Performance': 'Today +10%',       # Day increase 10%\n",
    "    'Relative Volume': 'Over 5',       # High Relative Volume\n",
    "    #'Price': 'Under $20',             # Price under 20 USD / Ross Cameron's filter\n",
    "    'Price': 'Under $50',             # Price under 20 USD / Ross Cameron's filter\n",
    "\n",
    "    'Float': 'Under 10M',              # Float under / Ross Cameron's filter\n",
    "\n",
    "    #'Price': '$10 to $50',             # Price 10-100 USD / Andrew Aziz's filter\n",
    "    #'Float': 'Under 100M'             # Float under / Andrew Aziz's filter (float between 20M and 500M)\n",
    "}\n",
    "\n",
    "\n",
    "NEWS_AGE_LIMIT_IN_DAYS = 5 # Limit of days for the news to be considered relevant\n",
    "POST_FILTER = False\n",
    "\n",
    "# Alternative filtering to consider:\n",
    "'''\n",
    "FILTERS_DICT = {'Debt/Equity':'Under 1',                 # Positive Operating Margin\n",
    "                'PEG':'Low (<1)',                        # Debt-to-Equity ratio under 1\n",
    "                'Operating Margin':'Positive (>0%)',     # Low P/B (under 1)\n",
    "                'P/B':'Low (<1)',                        # Low P/E ratio (under 15)\n",
    "                'P/E':'Low (<15)',                       # Low PEG ratio (under 1)\n",
    "                'InsiderTransactions':'Positive (>0%)<'} # Positive Insider Transactions\n",
    "'''\n",
    "\n",
    "\n",
    "# The filters and general manual link for the finvizfinance library: https://finvizfinance.readthedocs.io/_/downloads/en/latest/pdf/ \n",
    "# Possible filters can be found by running the following code:\n",
    "\n",
    "#from finvizfinance.screener.overview import Overview # type: ignore\n",
    "#foverview = Overview()    # Create Overview object\n",
    "#foverview.get_filters()   # Get list of all possible filters\n",
    "\n",
    "# And after to see the possible options for a filter, run the following code:\n",
    "#foverview.get_filter_options('Float') # Get list of all possible options for a filter, example on 'Relative Volume'\n"
   ]
  },
  {
   "cell_type": "markdown",
   "metadata": {},
   "source": [
    "\n",
    "\n",
    "## Fetching Filtered Stocks\n",
    "\n",
    "We define a function `get_filtered_stocks()` to fetch the stocks that meet our filter criteria.\n",
    "\n"
   ]
  },
  {
   "cell_type": "code",
   "execution_count": 4,
   "metadata": {},
   "outputs": [],
   "source": [
    "def get_filtered_stocks():\n",
    "    \"\"\"\n",
    "    Returns a dataframe of tickers with user-defined filters applied.:\n",
    "    \"\"\"\n",
    "    \n",
    "    foverview = Overview()\n",
    "    foverview.set_filter(filters_dict=FILTERS_DICT)\n",
    "    df_undervalued_overview = foverview.screener_view()\n",
    "    if not df_undervalued_overview.empty:  # Use .empty to check if DataFrame is empty\n",
    "        df_undervalued_overview.drop('P/E', axis=1, inplace=True) # Drop P/E column as it is not relevant\n",
    "        if not os.path.exists('out'): #ensures you have an 'out' folder ready\n",
    "            os.makedirs('out')\n",
    "        df_undervalued_overview.to_csv('out/Overview.csv', index=False)\n",
    "        #display(df_undervalued_overview)\n",
    "        return df_undervalued_overview\n",
    "    \n",
    "    else:  \n",
    "        print('No stocks found with the given filters')\n",
    "        return None"
   ]
  },
  {
   "cell_type": "code",
   "execution_count": 5,
   "metadata": {},
   "outputs": [],
   "source": [
    "\n",
    "\n",
    "\n",
    "def post_filtering_stocks(df_undervalued_overview):\n",
    "    if POST_FILTER:\n",
    "        # MIN_FLOAT = '20M' # Minimum float to consider\n",
    "        # MAX_FLOAT = '500M' # Maximum float to consider\n",
    "        # MIN_MARKET_CAP = '300M' # Minimum market cap to consider\n",
    "        # MAX_MARKET_CAP = '2B' # Maximum market cap to consider\n",
    "\n",
    "        MIN_FLOAT = '1K' # Minimum float to consider\n",
    "        MAX_FLOAT = '10B' # Maximum float to consider\n",
    "        MIN_MARKET_CAP = '10M' # Minimum market cap to consider\n",
    "        MAX_MARKET_CAP = '200B' # Maximum market cap to consider\n",
    "    else:\n",
    "        return df_undervalued_overview\n",
    "    \n",
    "    def convert_to_int(s): # Function to convert string to integer\n",
    "        return int(float(s[:-1]) * {'B': 1e9, 'M': 1e6, 'K': 1e3, '': 1}[s[-1]])\n",
    "    \n",
    "    # Filter stocks based on Market Cap:\n",
    "    df_undervalued_overview = df_undervalued_overview[ (df_undervalued_overview['Market Cap'] >= convert_to_int(MIN_MARKET_CAP)) \n",
    "                                                      & (df_undervalued_overview['Market Cap'] <= convert_to_int(MAX_MARKET_CAP))]\n",
    "    \n",
    "    \n",
    "    if len(df_undervalued_overview) == 0:\n",
    "        print(\"No stocks found with the given filters. Please modify the filters and try again.\")\n",
    "        return\n",
    "    if len(df_undervalued_overview) > 20:   # If more than 20 stocks are found, sort by Change and keep only the top 20\n",
    "        df_undervalued_overview = df_undervalued_overview.sort_values(by='Change', ascending=False) # Sort by Change\n",
    "        df_undervalued_overview = df_undervalued_overview.iloc[20:].index # Keep only the top 20 stocks, API limitation\n",
    "    \n",
    "    df_undervalued_overview['Float'] = float('nan')\n",
    "    for ticker in df_undervalued_overview['Ticker']:\n",
    "        stock = finvizfinance(ticker)\n",
    "        ticker_fundament = stock.ticker_fundament(ticker)\n",
    "        df_undervalued_overview.loc[df_undervalued_overview['Ticker'] == ticker, 'Float'] = convert_to_int(ticker_fundament['Shs Float'])\n",
    "\n",
    "    # Filter stocks based on Float:\n",
    "    df_undervalued_overview = df_undervalued_overview[ (df_undervalued_overview['Float'] >= convert_to_int(MIN_FLOAT)) \n",
    "                                                      & (df_undervalued_overview['Float'] <= convert_to_int(MAX_FLOAT))]\n",
    "    \n",
    "    \n",
    "    display(df_undervalued_overview)\n",
    "    return df_undervalued_overview"
   ]
  },
  {
   "cell_type": "markdown",
   "metadata": {},
   "source": [
    "\n",
    "\n",
    "## Sentiment Analysis\n",
    "\n",
    "We define a function `get_ticker_news_sentiment(ticker)` to perform sentiment analysis on the news articles of a given ticker.\n",
    "\n"
   ]
  },
  {
   "cell_type": "code",
   "execution_count": 6,
   "metadata": {},
   "outputs": [],
   "source": [
    "\n",
    "def get_recent_ticker_news(ticker):\n",
    "    # Get news articles\n",
    "    yf_ticker = yf.Ticker(ticker)\n",
    "    \n",
    "    try:\n",
    "        news_list = yf_ticker.get_news()\n",
    "    except:\n",
    "        print(f\"Error getting news for ticker {ticker}\")\n",
    "        return\n",
    "    \n",
    "    headers = {\n",
    "    'User-Agent': 'Mozilla/5.0 (Windows NT 10.0; Win64; x64) AppleWebKit/537.36 (KHTML, like Gecko) Chrome/58.0.3029.110 Safari/537.3'\n",
    "    }\n",
    "    extractor = Goose()\n",
    "    \n",
    "    titles, links, times, texts = [], [], [], []\n",
    "\n",
    "    for dic in news_list:        \n",
    "        try:\n",
    "            response = get(dic['link'], headers=headers)\n",
    "            response.raise_for_status()  # Raises a HTTPError if the status is 4xx, 5xx\n",
    "        except HTTPError as http_err:\n",
    "            print(f'HTTP error occurred: {http_err}')  # Python 3.6\n",
    "        except Exception as err:\n",
    "            print(f'Other error occurred: {err}')  # Python 3.6\n",
    "        else:\n",
    "            pass\n",
    "        \n",
    "        # Append the values to the respective lists\n",
    "        titles.append(dic['title'])                                             # Article title\n",
    "        links.append(dic['link'])                                               # Article link                         \n",
    "        times.append(datetime.fromtimestamp(dic['providerPublishTime']))        # Article publish time\n",
    "        texts.append(extractor.extract(raw_html=response.content).cleaned_text) # Article text\n",
    "    \n",
    "    #news_df = pd.DataFrame({'ticker': ticker, 'time': times, 'title': titles, 'text': texts, 'link': links})\n",
    "    news_df = pd.DataFrame({'ticker': [ticker]*len(times), 'time': times, 'title': titles, 'text': texts, 'link': links})\n",
    "    \n",
    "    # Filter out news older than \"\"news_age_limit_in_days\" days\n",
    "    news_df = news_df[news_df['time'] > datetime.now() - timedelta(days=NEWS_AGE_LIMIT_IN_DAYS)]\n",
    "    \n",
    "    return news_df\n",
    "\n",
    "\n",
    "\n",
    "def get_ticker_news_sentiment(stocknews):\n",
    "    ALLOW_TOKENIZATION = True # True: the model will feed the full article into the model in chunks of 512 tokens, \n",
    "    #                            False: the model will consider only the first sentences of the article until the total number of tokens does not exceed 512\n",
    "\n",
    "    tokenizer = AutoTokenizer.from_pretrained(\"ProsusAI/finbert\")\n",
    "    pipe = pipeline(\"text-classification\", model=\"ProsusAI/finbert\")\n",
    "\n",
    "    # Initialize a list for the sentiment scores\n",
    "    sentiments = []\n",
    "    sentiment_scores = []\n",
    "\n",
    "    for _, row in stocknews.iterrows():\n",
    "        text = row['text']\n",
    "\n",
    "        # Model max input is 512 tokens, so we need to split the text into chunks of 512 tokens\n",
    "        if ALLOW_TOKENIZATION: # feed into model in chunks\n",
    "            inputs = tokenizer.encode_plus(\n",
    "                text,\n",
    "                max_length=510,\n",
    "                truncation='longest_first',\n",
    "                padding='max_length',\n",
    "                return_tensors='pt',\n",
    "            )\n",
    "\n",
    "            input_ids = inputs[\"input_ids\"].tolist()[0]\n",
    "            new_text = tokenizer.decode(input_ids)\n",
    "        else: # feed into model only the first sentences (until 512 tokens)\n",
    "            sentences = sent_tokenize(text)\n",
    "            new_text = ''\n",
    "            for sentence in sentences:\n",
    "                if len(tokenizer.encode(new_text)) + len(tokenizer.encode(sentence)) <= 512:\n",
    "                    new_text += ' ' + sentence\n",
    "                else:\n",
    "                    break\n",
    "\n",
    "        results = pipe(new_text) # run the model\n",
    "\n",
    "        # Get the sentiment score from the results and append it to the list        \n",
    "        sentiment = results[0]['label']\n",
    "        sentiment_score = results[0]['score'] if sentiment == 'positive' else -results[0]['score']\n",
    "        \n",
    "        sentiments.append(sentiment)\n",
    "        sentiment_scores.append(sentiment_score) # instead assigning positive etc values, assign the score\n",
    "\n",
    "    # Add the sentiment scores to the DataFrame\n",
    "    stocknews['sentiment'] = sentiments\n",
    "    stocknews['sentiment_score'] = sentiment_scores\n",
    "\n",
    "    return stocknews\n",
    "\n",
    "\n"
   ]
  },
  {
   "cell_type": "markdown",
   "metadata": {},
   "source": [
    "\n",
    "\n",
    "## Generate CSV\n",
    "\n",
    "We define a function `generate_csv(sentiment,ticker)` to generate a CSV file for each ticker's sentiment analysis.\n",
    "\n"
   ]
  },
  {
   "cell_type": "code",
   "execution_count": 7,
   "metadata": {},
   "outputs": [],
   "source": [
    "def generate_csv(stocknews, ticker):\n",
    "    # Select all columns except 'text'\n",
    "    stocknews = stocknews.loc[:, stocknews.columns != 'text']\n",
    "    stocknews.to_csv(f'out/{ticker}.csv', index=False)"
   ]
  },
  {
   "cell_type": "markdown",
   "metadata": {},
   "source": [
    "\n",
    "\n",
    "## Fetch Sentiments and Generate CSVs\n",
    "\n",
    "We fetch the sentiments for each undervalued stock and generate a CSV file for each.\n",
    "\n"
   ]
  },
  {
   "cell_type": "code",
   "execution_count": 8,
   "metadata": {},
   "outputs": [
    {
     "name": "stdout",
     "output_type": "stream",
     "text": [
      "[Info] loading page [##############################] 1/1 \r"
     ]
    },
    {
     "data": {
      "text/html": [
       "<div>\n",
       "<style scoped>\n",
       "    .dataframe tbody tr th:only-of-type {\n",
       "        vertical-align: middle;\n",
       "    }\n",
       "\n",
       "    .dataframe tbody tr th {\n",
       "        vertical-align: top;\n",
       "    }\n",
       "\n",
       "    .dataframe thead th {\n",
       "        text-align: right;\n",
       "    }\n",
       "</style>\n",
       "<table border=\"1\" class=\"dataframe\">\n",
       "  <thead>\n",
       "    <tr style=\"text-align: right;\">\n",
       "      <th></th>\n",
       "      <th>Ticker</th>\n",
       "      <th>Company</th>\n",
       "      <th>Sector</th>\n",
       "      <th>Industry</th>\n",
       "      <th>Country</th>\n",
       "      <th>Market Cap</th>\n",
       "      <th>Price</th>\n",
       "      <th>Change</th>\n",
       "      <th>Volume</th>\n",
       "    </tr>\n",
       "  </thead>\n",
       "  <tbody>\n",
       "    <tr>\n",
       "      <th>0</th>\n",
       "      <td>AILE</td>\n",
       "      <td>iLearningEngines Inc.</td>\n",
       "      <td>Technology</td>\n",
       "      <td>Software - Infrastructure</td>\n",
       "      <td>USA</td>\n",
       "      <td>75360000.0</td>\n",
       "      <td>6.48</td>\n",
       "      <td>0.1289</td>\n",
       "      <td>413116.0</td>\n",
       "    </tr>\n",
       "    <tr>\n",
       "      <th>1</th>\n",
       "      <td>BWAQ</td>\n",
       "      <td>Blue World Acquisition Corp</td>\n",
       "      <td>Financial</td>\n",
       "      <td>Shell Companies</td>\n",
       "      <td>USA</td>\n",
       "      <td>50080000.0</td>\n",
       "      <td>9.04</td>\n",
       "      <td>0.3255</td>\n",
       "      <td>1645831.0</td>\n",
       "    </tr>\n",
       "    <tr>\n",
       "      <th>2</th>\n",
       "      <td>KWE</td>\n",
       "      <td>KWESST Micro Systems Inc.</td>\n",
       "      <td>Industrials</td>\n",
       "      <td>Aerospace &amp; Defense</td>\n",
       "      <td>Canada</td>\n",
       "      <td>4250000.0</td>\n",
       "      <td>1.05</td>\n",
       "      <td>0.2033</td>\n",
       "      <td>35180214.0</td>\n",
       "    </tr>\n",
       "    <tr>\n",
       "      <th>3</th>\n",
       "      <td>PIXY</td>\n",
       "      <td>ShiftPixy Inc</td>\n",
       "      <td>Industrials</td>\n",
       "      <td>Staffing &amp; Employment Services</td>\n",
       "      <td>USA</td>\n",
       "      <td>10950000.0</td>\n",
       "      <td>1.62</td>\n",
       "      <td>0.1096</td>\n",
       "      <td>19130828.0</td>\n",
       "    </tr>\n",
       "    <tr>\n",
       "      <th>4</th>\n",
       "      <td>TRIB</td>\n",
       "      <td>Trinity Biotech Plc ADR</td>\n",
       "      <td>Healthcare</td>\n",
       "      <td>Medical Devices</td>\n",
       "      <td>Ireland</td>\n",
       "      <td>22020000.0</td>\n",
       "      <td>2.88</td>\n",
       "      <td>0.2639</td>\n",
       "      <td>236679.0</td>\n",
       "    </tr>\n",
       "    <tr>\n",
       "      <th>5</th>\n",
       "      <td>WHLR</td>\n",
       "      <td>Wheeler Real Estate Investment Trust Inc</td>\n",
       "      <td>Real Estate</td>\n",
       "      <td>REIT - Retail</td>\n",
       "      <td>USA</td>\n",
       "      <td>6340000.0</td>\n",
       "      <td>2.24</td>\n",
       "      <td>0.4268</td>\n",
       "      <td>4963749.0</td>\n",
       "    </tr>\n",
       "  </tbody>\n",
       "</table>\n",
       "</div>"
      ],
      "text/plain": [
       "  Ticker                                   Company       Sector  \\\n",
       "0   AILE                     iLearningEngines Inc.   Technology   \n",
       "1   BWAQ               Blue World Acquisition Corp    Financial   \n",
       "2    KWE                 KWESST Micro Systems Inc.  Industrials   \n",
       "3   PIXY                             ShiftPixy Inc  Industrials   \n",
       "4   TRIB                   Trinity Biotech Plc ADR   Healthcare   \n",
       "5   WHLR  Wheeler Real Estate Investment Trust Inc  Real Estate   \n",
       "\n",
       "                         Industry  Country  Market Cap  Price  Change  \\\n",
       "0       Software - Infrastructure      USA  75360000.0   6.48  0.1289   \n",
       "1                 Shell Companies      USA  50080000.0   9.04  0.3255   \n",
       "2             Aerospace & Defense   Canada   4250000.0   1.05  0.2033   \n",
       "3  Staffing & Employment Services      USA  10950000.0   1.62  0.1096   \n",
       "4                 Medical Devices  Ireland  22020000.0   2.88  0.2639   \n",
       "5                   REIT - Retail      USA   6340000.0   2.24  0.4268   \n",
       "\n",
       "       Volume  \n",
       "0    413116.0  \n",
       "1   1645831.0  \n",
       "2  35180214.0  \n",
       "3  19130828.0  \n",
       "4    236679.0  \n",
       "5   4963749.0  "
      ]
     },
     "execution_count": 8,
     "metadata": {},
     "output_type": "execute_result"
    }
   ],
   "source": [
    "df_undervalued_overview = get_filtered_stocks()\n",
    "df_undervalued_overview = post_filtering_stocks(df_undervalued_overview)\n",
    "list_undervalued_tickers = df_undervalued_overview['Ticker'].to_list()\n",
    "\n",
    "df_undervalued_overview"
   ]
  },
  {
   "cell_type": "code",
   "execution_count": 9,
   "metadata": {},
   "outputs": [
    {
     "data": {
      "application/vnd.jupyter.widget-view+json": {
       "model_id": "4b687be4058b4ccaa7dbc1c1c884f105",
       "version_major": 2,
       "version_minor": 0
      },
      "text/plain": [
       "tokenizer_config.json:   0%|          | 0.00/252 [00:00<?, ?B/s]"
      ]
     },
     "metadata": {},
     "output_type": "display_data"
    },
    {
     "name": "stderr",
     "output_type": "stream",
     "text": [
      "c:\\Users\\reios\\AppData\\Local\\Programs\\Python\\Python312\\Lib\\site-packages\\huggingface_hub\\file_download.py:157: UserWarning: `huggingface_hub` cache-system uses symlinks by default to efficiently store duplicated files but your machine does not support them in C:\\Users\\reios\\.cache\\huggingface\\hub\\models--ProsusAI--finbert. Caching files will still work but in a degraded version that might require more space on your disk. This warning can be disabled by setting the `HF_HUB_DISABLE_SYMLINKS_WARNING` environment variable. For more details, see https://huggingface.co/docs/huggingface_hub/how-to-cache#limitations.\n",
      "To support symlinks on Windows, you either need to activate Developer Mode or to run Python as an administrator. In order to see activate developer mode, see this article: https://docs.microsoft.com/en-us/windows/apps/get-started/enable-your-device-for-development\n",
      "  warnings.warn(message)\n"
     ]
    },
    {
     "data": {
      "application/vnd.jupyter.widget-view+json": {
       "model_id": "092b8bee00e244c894876e05e6eb2465",
       "version_major": 2,
       "version_minor": 0
      },
      "text/plain": [
       "config.json:   0%|          | 0.00/758 [00:00<?, ?B/s]"
      ]
     },
     "metadata": {},
     "output_type": "display_data"
    },
    {
     "data": {
      "application/vnd.jupyter.widget-view+json": {
       "model_id": "b57ce62f6f8344139ee095eea5d9e607",
       "version_major": 2,
       "version_minor": 0
      },
      "text/plain": [
       "vocab.txt:   0%|          | 0.00/232k [00:00<?, ?B/s]"
      ]
     },
     "metadata": {},
     "output_type": "display_data"
    },
    {
     "data": {
      "application/vnd.jupyter.widget-view+json": {
       "model_id": "22162e9d28d74e8cb59719a4c9f4c503",
       "version_major": 2,
       "version_minor": 0
      },
      "text/plain": [
       "special_tokens_map.json:   0%|          | 0.00/112 [00:00<?, ?B/s]"
      ]
     },
     "metadata": {},
     "output_type": "display_data"
    },
    {
     "ename": "RuntimeError",
     "evalue": "Failed to import transformers.models.bert.modeling_tf_bert because of the following error (look up to see its traceback):\nYour currently installed version of Keras is Keras 3, but this is not yet supported in Transformers. Please install the backwards-compatible tf-keras package with `pip install tf-keras`.",
     "output_type": "error",
     "traceback": [
      "\u001b[1;31m---------------------------------------------------------------------------\u001b[0m",
      "\u001b[1;31mModuleNotFoundError\u001b[0m                       Traceback (most recent call last)",
      "File \u001b[1;32mc:\\Users\\reios\\AppData\\Local\\Programs\\Python\\Python312\\Lib\\site-packages\\transformers\\activations_tf.py:22\u001b[0m\n\u001b[0;32m     21\u001b[0m \u001b[38;5;28;01mtry\u001b[39;00m:\n\u001b[1;32m---> 22\u001b[0m     \u001b[38;5;28;01mimport\u001b[39;00m \u001b[38;5;21;01mtf_keras\u001b[39;00m \u001b[38;5;28;01mas\u001b[39;00m \u001b[38;5;21;01mkeras\u001b[39;00m\n\u001b[0;32m     23\u001b[0m \u001b[38;5;28;01mexcept\u001b[39;00m (\u001b[38;5;167;01mModuleNotFoundError\u001b[39;00m, \u001b[38;5;167;01mImportError\u001b[39;00m):\n",
      "\u001b[1;31mModuleNotFoundError\u001b[0m: No module named 'tf_keras'",
      "\nDuring handling of the above exception, another exception occurred:\n",
      "\u001b[1;31mValueError\u001b[0m                                Traceback (most recent call last)",
      "File \u001b[1;32mc:\\Users\\reios\\AppData\\Local\\Programs\\Python\\Python312\\Lib\\site-packages\\transformers\\utils\\import_utils.py:1535\u001b[0m, in \u001b[0;36m_LazyModule._get_module\u001b[1;34m(self, module_name)\u001b[0m\n\u001b[0;32m   1534\u001b[0m \u001b[38;5;28;01mtry\u001b[39;00m:\n\u001b[1;32m-> 1535\u001b[0m     \u001b[38;5;28;01mreturn\u001b[39;00m \u001b[43mimportlib\u001b[49m\u001b[38;5;241;43m.\u001b[39;49m\u001b[43mimport_module\u001b[49m\u001b[43m(\u001b[49m\u001b[38;5;124;43m\"\u001b[39;49m\u001b[38;5;124;43m.\u001b[39;49m\u001b[38;5;124;43m\"\u001b[39;49m\u001b[43m \u001b[49m\u001b[38;5;241;43m+\u001b[39;49m\u001b[43m \u001b[49m\u001b[43mmodule_name\u001b[49m\u001b[43m,\u001b[49m\u001b[43m \u001b[49m\u001b[38;5;28;43mself\u001b[39;49m\u001b[38;5;241;43m.\u001b[39;49m\u001b[38;5;18;43m__name__\u001b[39;49m\u001b[43m)\u001b[49m\n\u001b[0;32m   1536\u001b[0m \u001b[38;5;28;01mexcept\u001b[39;00m \u001b[38;5;167;01mException\u001b[39;00m \u001b[38;5;28;01mas\u001b[39;00m e:\n",
      "File \u001b[1;32mc:\\Users\\reios\\AppData\\Local\\Programs\\Python\\Python312\\Lib\\importlib\\__init__.py:90\u001b[0m, in \u001b[0;36mimport_module\u001b[1;34m(name, package)\u001b[0m\n\u001b[0;32m     89\u001b[0m         level \u001b[38;5;241m+\u001b[39m\u001b[38;5;241m=\u001b[39m \u001b[38;5;241m1\u001b[39m\n\u001b[1;32m---> 90\u001b[0m \u001b[38;5;28;01mreturn\u001b[39;00m \u001b[43m_bootstrap\u001b[49m\u001b[38;5;241;43m.\u001b[39;49m\u001b[43m_gcd_import\u001b[49m\u001b[43m(\u001b[49m\u001b[43mname\u001b[49m\u001b[43m[\u001b[49m\u001b[43mlevel\u001b[49m\u001b[43m:\u001b[49m\u001b[43m]\u001b[49m\u001b[43m,\u001b[49m\u001b[43m \u001b[49m\u001b[43mpackage\u001b[49m\u001b[43m,\u001b[49m\u001b[43m \u001b[49m\u001b[43mlevel\u001b[49m\u001b[43m)\u001b[49m\n",
      "File \u001b[1;32m<frozen importlib._bootstrap>:1387\u001b[0m, in \u001b[0;36m_gcd_import\u001b[1;34m(name, package, level)\u001b[0m\n",
      "File \u001b[1;32m<frozen importlib._bootstrap>:1360\u001b[0m, in \u001b[0;36m_find_and_load\u001b[1;34m(name, import_)\u001b[0m\n",
      "File \u001b[1;32m<frozen importlib._bootstrap>:1331\u001b[0m, in \u001b[0;36m_find_and_load_unlocked\u001b[1;34m(name, import_)\u001b[0m\n",
      "File \u001b[1;32m<frozen importlib._bootstrap>:935\u001b[0m, in \u001b[0;36m_load_unlocked\u001b[1;34m(spec)\u001b[0m\n",
      "File \u001b[1;32m<frozen importlib._bootstrap_external>:995\u001b[0m, in \u001b[0;36mexec_module\u001b[1;34m(self, module)\u001b[0m\n",
      "File \u001b[1;32m<frozen importlib._bootstrap>:488\u001b[0m, in \u001b[0;36m_call_with_frames_removed\u001b[1;34m(f, *args, **kwds)\u001b[0m\n",
      "File \u001b[1;32mc:\\Users\\reios\\AppData\\Local\\Programs\\Python\\Python312\\Lib\\site-packages\\transformers\\models\\bert\\modeling_tf_bert.py:29\u001b[0m\n\u001b[0;32m     27\u001b[0m \u001b[38;5;28;01mimport\u001b[39;00m \u001b[38;5;21;01mtensorflow\u001b[39;00m \u001b[38;5;28;01mas\u001b[39;00m \u001b[38;5;21;01mtf\u001b[39;00m\n\u001b[1;32m---> 29\u001b[0m \u001b[38;5;28;01mfrom\u001b[39;00m \u001b[38;5;21;01m.\u001b[39;00m\u001b[38;5;21;01m.\u001b[39;00m\u001b[38;5;21;01m.\u001b[39;00m\u001b[38;5;21;01mactivations_tf\u001b[39;00m \u001b[38;5;28;01mimport\u001b[39;00m get_tf_activation\n\u001b[0;32m     30\u001b[0m \u001b[38;5;28;01mfrom\u001b[39;00m \u001b[38;5;21;01m.\u001b[39;00m\u001b[38;5;21;01m.\u001b[39;00m\u001b[38;5;21;01m.\u001b[39;00m\u001b[38;5;21;01mmodeling_tf_outputs\u001b[39;00m \u001b[38;5;28;01mimport\u001b[39;00m (\n\u001b[0;32m     31\u001b[0m     TFBaseModelOutputWithPastAndCrossAttentions,\n\u001b[0;32m     32\u001b[0m     TFBaseModelOutputWithPoolingAndCrossAttentions,\n\u001b[1;32m   (...)\u001b[0m\n\u001b[0;32m     39\u001b[0m     TFTokenClassifierOutput,\n\u001b[0;32m     40\u001b[0m )\n",
      "File \u001b[1;32mc:\\Users\\reios\\AppData\\Local\\Programs\\Python\\Python312\\Lib\\site-packages\\transformers\\activations_tf.py:27\u001b[0m\n\u001b[0;32m     26\u001b[0m     \u001b[38;5;28;01mif\u001b[39;00m parse(keras\u001b[38;5;241m.\u001b[39m__version__)\u001b[38;5;241m.\u001b[39mmajor \u001b[38;5;241m>\u001b[39m \u001b[38;5;241m2\u001b[39m:\n\u001b[1;32m---> 27\u001b[0m         \u001b[38;5;28;01mraise\u001b[39;00m \u001b[38;5;167;01mValueError\u001b[39;00m(\n\u001b[0;32m     28\u001b[0m             \u001b[38;5;124m\"\u001b[39m\u001b[38;5;124mYour currently installed version of Keras is Keras 3, but this is not yet supported in \u001b[39m\u001b[38;5;124m\"\u001b[39m\n\u001b[0;32m     29\u001b[0m             \u001b[38;5;124m\"\u001b[39m\u001b[38;5;124mTransformers. Please install the backwards-compatible tf-keras package with \u001b[39m\u001b[38;5;124m\"\u001b[39m\n\u001b[0;32m     30\u001b[0m             \u001b[38;5;124m\"\u001b[39m\u001b[38;5;124m`pip install tf-keras`.\u001b[39m\u001b[38;5;124m\"\u001b[39m\n\u001b[0;32m     31\u001b[0m         )\n\u001b[0;32m     34\u001b[0m \u001b[38;5;28;01mdef\u001b[39;00m \u001b[38;5;21m_gelu\u001b[39m(x):\n",
      "\u001b[1;31mValueError\u001b[0m: Your currently installed version of Keras is Keras 3, but this is not yet supported in Transformers. Please install the backwards-compatible tf-keras package with `pip install tf-keras`.",
      "\nThe above exception was the direct cause of the following exception:\n",
      "\u001b[1;31mRuntimeError\u001b[0m                              Traceback (most recent call last)",
      "Cell \u001b[1;32mIn[9], line 4\u001b[0m\n\u001b[0;32m      2\u001b[0m \u001b[38;5;28;01mfor\u001b[39;00m ticker \u001b[38;5;129;01min\u001b[39;00m list_undervalued_tickers:\n\u001b[0;32m      3\u001b[0m     stocknews \u001b[38;5;241m=\u001b[39m get_recent_ticker_news(ticker)\n\u001b[1;32m----> 4\u001b[0m     stocknews \u001b[38;5;241m=\u001b[39m \u001b[43mget_ticker_news_sentiment\u001b[49m\u001b[43m(\u001b[49m\u001b[43mstocknews\u001b[49m\u001b[43m)\u001b[49m\n\u001b[0;32m      6\u001b[0m     \u001b[38;5;28;01mif\u001b[39;00m stocknews \u001b[38;5;129;01mis\u001b[39;00m \u001b[38;5;129;01mnot\u001b[39;00m \u001b[38;5;28;01mNone\u001b[39;00m:\n\u001b[0;32m      7\u001b[0m         stocknews_list\u001b[38;5;241m.\u001b[39mappend(stocknews)\n",
      "Cell \u001b[1;32mIn[6], line 50\u001b[0m, in \u001b[0;36mget_ticker_news_sentiment\u001b[1;34m(stocknews)\u001b[0m\n\u001b[0;32m     47\u001b[0m \u001b[38;5;66;03m#                            False: the model will consider only the first sentences of the article until the total number of tokens does not exceed 512\u001b[39;00m\n\u001b[0;32m     49\u001b[0m tokenizer \u001b[38;5;241m=\u001b[39m AutoTokenizer\u001b[38;5;241m.\u001b[39mfrom_pretrained(\u001b[38;5;124m\"\u001b[39m\u001b[38;5;124mProsusAI/finbert\u001b[39m\u001b[38;5;124m\"\u001b[39m)\n\u001b[1;32m---> 50\u001b[0m pipe \u001b[38;5;241m=\u001b[39m \u001b[43mpipeline\u001b[49m\u001b[43m(\u001b[49m\u001b[38;5;124;43m\"\u001b[39;49m\u001b[38;5;124;43mtext-classification\u001b[39;49m\u001b[38;5;124;43m\"\u001b[39;49m\u001b[43m,\u001b[49m\u001b[43m \u001b[49m\u001b[43mmodel\u001b[49m\u001b[38;5;241;43m=\u001b[39;49m\u001b[38;5;124;43m\"\u001b[39;49m\u001b[38;5;124;43mProsusAI/finbert\u001b[39;49m\u001b[38;5;124;43m\"\u001b[39;49m\u001b[43m)\u001b[49m\n\u001b[0;32m     52\u001b[0m \u001b[38;5;66;03m# Initialize a list for the sentiment scores\u001b[39;00m\n\u001b[0;32m     53\u001b[0m sentiments \u001b[38;5;241m=\u001b[39m []\n",
      "File \u001b[1;32mc:\\Users\\reios\\AppData\\Local\\Programs\\Python\\Python312\\Lib\\site-packages\\transformers\\pipelines\\__init__.py:906\u001b[0m, in \u001b[0;36mpipeline\u001b[1;34m(task, model, config, tokenizer, feature_extractor, image_processor, framework, revision, use_fast, token, device, device_map, torch_dtype, trust_remote_code, model_kwargs, pipeline_class, **kwargs)\u001b[0m\n\u001b[0;32m    904\u001b[0m \u001b[38;5;28;01mif\u001b[39;00m \u001b[38;5;28misinstance\u001b[39m(model, \u001b[38;5;28mstr\u001b[39m) \u001b[38;5;129;01mor\u001b[39;00m framework \u001b[38;5;129;01mis\u001b[39;00m \u001b[38;5;28;01mNone\u001b[39;00m:\n\u001b[0;32m    905\u001b[0m     model_classes \u001b[38;5;241m=\u001b[39m {\u001b[38;5;124m\"\u001b[39m\u001b[38;5;124mtf\u001b[39m\u001b[38;5;124m\"\u001b[39m: targeted_task[\u001b[38;5;124m\"\u001b[39m\u001b[38;5;124mtf\u001b[39m\u001b[38;5;124m\"\u001b[39m], \u001b[38;5;124m\"\u001b[39m\u001b[38;5;124mpt\u001b[39m\u001b[38;5;124m\"\u001b[39m: targeted_task[\u001b[38;5;124m\"\u001b[39m\u001b[38;5;124mpt\u001b[39m\u001b[38;5;124m\"\u001b[39m]}\n\u001b[1;32m--> 906\u001b[0m     framework, model \u001b[38;5;241m=\u001b[39m \u001b[43minfer_framework_load_model\u001b[49m\u001b[43m(\u001b[49m\n\u001b[0;32m    907\u001b[0m \u001b[43m        \u001b[49m\u001b[43mmodel\u001b[49m\u001b[43m,\u001b[49m\n\u001b[0;32m    908\u001b[0m \u001b[43m        \u001b[49m\u001b[43mmodel_classes\u001b[49m\u001b[38;5;241;43m=\u001b[39;49m\u001b[43mmodel_classes\u001b[49m\u001b[43m,\u001b[49m\n\u001b[0;32m    909\u001b[0m \u001b[43m        \u001b[49m\u001b[43mconfig\u001b[49m\u001b[38;5;241;43m=\u001b[39;49m\u001b[43mconfig\u001b[49m\u001b[43m,\u001b[49m\n\u001b[0;32m    910\u001b[0m \u001b[43m        \u001b[49m\u001b[43mframework\u001b[49m\u001b[38;5;241;43m=\u001b[39;49m\u001b[43mframework\u001b[49m\u001b[43m,\u001b[49m\n\u001b[0;32m    911\u001b[0m \u001b[43m        \u001b[49m\u001b[43mtask\u001b[49m\u001b[38;5;241;43m=\u001b[39;49m\u001b[43mtask\u001b[49m\u001b[43m,\u001b[49m\n\u001b[0;32m    912\u001b[0m \u001b[43m        \u001b[49m\u001b[38;5;241;43m*\u001b[39;49m\u001b[38;5;241;43m*\u001b[39;49m\u001b[43mhub_kwargs\u001b[49m\u001b[43m,\u001b[49m\n\u001b[0;32m    913\u001b[0m \u001b[43m        \u001b[49m\u001b[38;5;241;43m*\u001b[39;49m\u001b[38;5;241;43m*\u001b[39;49m\u001b[43mmodel_kwargs\u001b[49m\u001b[43m,\u001b[49m\n\u001b[0;32m    914\u001b[0m \u001b[43m    \u001b[49m\u001b[43m)\u001b[49m\n\u001b[0;32m    916\u001b[0m model_config \u001b[38;5;241m=\u001b[39m model\u001b[38;5;241m.\u001b[39mconfig\n\u001b[0;32m    917\u001b[0m hub_kwargs[\u001b[38;5;124m\"\u001b[39m\u001b[38;5;124m_commit_hash\u001b[39m\u001b[38;5;124m\"\u001b[39m] \u001b[38;5;241m=\u001b[39m model\u001b[38;5;241m.\u001b[39mconfig\u001b[38;5;241m.\u001b[39m_commit_hash\n",
      "File \u001b[1;32mc:\\Users\\reios\\AppData\\Local\\Programs\\Python\\Python312\\Lib\\site-packages\\transformers\\pipelines\\base.py:258\u001b[0m, in \u001b[0;36minfer_framework_load_model\u001b[1;34m(model, config, model_classes, task, framework, **model_kwargs)\u001b[0m\n\u001b[0;32m    256\u001b[0m         classes\u001b[38;5;241m.\u001b[39mappend(_class)\n\u001b[0;32m    257\u001b[0m \u001b[38;5;28;01mif\u001b[39;00m look_tf:\n\u001b[1;32m--> 258\u001b[0m     _class \u001b[38;5;241m=\u001b[39m \u001b[38;5;28;43mgetattr\u001b[39;49m\u001b[43m(\u001b[49m\u001b[43mtransformers_module\u001b[49m\u001b[43m,\u001b[49m\u001b[43m \u001b[49m\u001b[38;5;124;43mf\u001b[39;49m\u001b[38;5;124;43m\"\u001b[39;49m\u001b[38;5;124;43mTF\u001b[39;49m\u001b[38;5;132;43;01m{\u001b[39;49;00m\u001b[43marchitecture\u001b[49m\u001b[38;5;132;43;01m}\u001b[39;49;00m\u001b[38;5;124;43m\"\u001b[39;49m\u001b[43m,\u001b[49m\u001b[43m \u001b[49m\u001b[38;5;28;43;01mNone\u001b[39;49;00m\u001b[43m)\u001b[49m\n\u001b[0;32m    259\u001b[0m     \u001b[38;5;28;01mif\u001b[39;00m _class \u001b[38;5;129;01mis\u001b[39;00m \u001b[38;5;129;01mnot\u001b[39;00m \u001b[38;5;28;01mNone\u001b[39;00m:\n\u001b[0;32m    260\u001b[0m         classes\u001b[38;5;241m.\u001b[39mappend(_class)\n",
      "File \u001b[1;32mc:\\Users\\reios\\AppData\\Local\\Programs\\Python\\Python312\\Lib\\site-packages\\transformers\\utils\\import_utils.py:1526\u001b[0m, in \u001b[0;36m_LazyModule.__getattr__\u001b[1;34m(self, name)\u001b[0m\n\u001b[0;32m   1524\u001b[0m \u001b[38;5;28;01melif\u001b[39;00m name \u001b[38;5;129;01min\u001b[39;00m \u001b[38;5;28mself\u001b[39m\u001b[38;5;241m.\u001b[39m_class_to_module\u001b[38;5;241m.\u001b[39mkeys():\n\u001b[0;32m   1525\u001b[0m     module \u001b[38;5;241m=\u001b[39m \u001b[38;5;28mself\u001b[39m\u001b[38;5;241m.\u001b[39m_get_module(\u001b[38;5;28mself\u001b[39m\u001b[38;5;241m.\u001b[39m_class_to_module[name])\n\u001b[1;32m-> 1526\u001b[0m     value \u001b[38;5;241m=\u001b[39m \u001b[38;5;28;43mgetattr\u001b[39;49m\u001b[43m(\u001b[49m\u001b[43mmodule\u001b[49m\u001b[43m,\u001b[49m\u001b[43m \u001b[49m\u001b[43mname\u001b[49m\u001b[43m)\u001b[49m\n\u001b[0;32m   1527\u001b[0m \u001b[38;5;28;01melse\u001b[39;00m:\n\u001b[0;32m   1528\u001b[0m     \u001b[38;5;28;01mraise\u001b[39;00m \u001b[38;5;167;01mAttributeError\u001b[39;00m(\u001b[38;5;124mf\u001b[39m\u001b[38;5;124m\"\u001b[39m\u001b[38;5;124mmodule \u001b[39m\u001b[38;5;132;01m{\u001b[39;00m\u001b[38;5;28mself\u001b[39m\u001b[38;5;241m.\u001b[39m\u001b[38;5;18m__name__\u001b[39m\u001b[38;5;132;01m}\u001b[39;00m\u001b[38;5;124m has no attribute \u001b[39m\u001b[38;5;132;01m{\u001b[39;00mname\u001b[38;5;132;01m}\u001b[39;00m\u001b[38;5;124m\"\u001b[39m)\n",
      "File \u001b[1;32mc:\\Users\\reios\\AppData\\Local\\Programs\\Python\\Python312\\Lib\\site-packages\\transformers\\utils\\import_utils.py:1525\u001b[0m, in \u001b[0;36m_LazyModule.__getattr__\u001b[1;34m(self, name)\u001b[0m\n\u001b[0;32m   1523\u001b[0m     value \u001b[38;5;241m=\u001b[39m \u001b[38;5;28mself\u001b[39m\u001b[38;5;241m.\u001b[39m_get_module(name)\n\u001b[0;32m   1524\u001b[0m \u001b[38;5;28;01melif\u001b[39;00m name \u001b[38;5;129;01min\u001b[39;00m \u001b[38;5;28mself\u001b[39m\u001b[38;5;241m.\u001b[39m_class_to_module\u001b[38;5;241m.\u001b[39mkeys():\n\u001b[1;32m-> 1525\u001b[0m     module \u001b[38;5;241m=\u001b[39m \u001b[38;5;28;43mself\u001b[39;49m\u001b[38;5;241;43m.\u001b[39;49m\u001b[43m_get_module\u001b[49m\u001b[43m(\u001b[49m\u001b[38;5;28;43mself\u001b[39;49m\u001b[38;5;241;43m.\u001b[39;49m\u001b[43m_class_to_module\u001b[49m\u001b[43m[\u001b[49m\u001b[43mname\u001b[49m\u001b[43m]\u001b[49m\u001b[43m)\u001b[49m\n\u001b[0;32m   1526\u001b[0m     value \u001b[38;5;241m=\u001b[39m \u001b[38;5;28mgetattr\u001b[39m(module, name)\n\u001b[0;32m   1527\u001b[0m \u001b[38;5;28;01melse\u001b[39;00m:\n",
      "File \u001b[1;32mc:\\Users\\reios\\AppData\\Local\\Programs\\Python\\Python312\\Lib\\site-packages\\transformers\\utils\\import_utils.py:1537\u001b[0m, in \u001b[0;36m_LazyModule._get_module\u001b[1;34m(self, module_name)\u001b[0m\n\u001b[0;32m   1535\u001b[0m     \u001b[38;5;28;01mreturn\u001b[39;00m importlib\u001b[38;5;241m.\u001b[39mimport_module(\u001b[38;5;124m\"\u001b[39m\u001b[38;5;124m.\u001b[39m\u001b[38;5;124m\"\u001b[39m \u001b[38;5;241m+\u001b[39m module_name, \u001b[38;5;28mself\u001b[39m\u001b[38;5;241m.\u001b[39m\u001b[38;5;18m__name__\u001b[39m)\n\u001b[0;32m   1536\u001b[0m \u001b[38;5;28;01mexcept\u001b[39;00m \u001b[38;5;167;01mException\u001b[39;00m \u001b[38;5;28;01mas\u001b[39;00m e:\n\u001b[1;32m-> 1537\u001b[0m     \u001b[38;5;28;01mraise\u001b[39;00m \u001b[38;5;167;01mRuntimeError\u001b[39;00m(\n\u001b[0;32m   1538\u001b[0m         \u001b[38;5;124mf\u001b[39m\u001b[38;5;124m\"\u001b[39m\u001b[38;5;124mFailed to import \u001b[39m\u001b[38;5;132;01m{\u001b[39;00m\u001b[38;5;28mself\u001b[39m\u001b[38;5;241m.\u001b[39m\u001b[38;5;18m__name__\u001b[39m\u001b[38;5;132;01m}\u001b[39;00m\u001b[38;5;124m.\u001b[39m\u001b[38;5;132;01m{\u001b[39;00mmodule_name\u001b[38;5;132;01m}\u001b[39;00m\u001b[38;5;124m because of the following error (look up to see its\u001b[39m\u001b[38;5;124m\"\u001b[39m\n\u001b[0;32m   1539\u001b[0m         \u001b[38;5;124mf\u001b[39m\u001b[38;5;124m\"\u001b[39m\u001b[38;5;124m traceback):\u001b[39m\u001b[38;5;130;01m\\n\u001b[39;00m\u001b[38;5;132;01m{\u001b[39;00me\u001b[38;5;132;01m}\u001b[39;00m\u001b[38;5;124m\"\u001b[39m\n\u001b[0;32m   1540\u001b[0m     ) \u001b[38;5;28;01mfrom\u001b[39;00m \u001b[38;5;21;01me\u001b[39;00m\n",
      "\u001b[1;31mRuntimeError\u001b[0m: Failed to import transformers.models.bert.modeling_tf_bert because of the following error (look up to see its traceback):\nYour currently installed version of Keras is Keras 3, but this is not yet supported in Transformers. Please install the backwards-compatible tf-keras package with `pip install tf-keras`."
     ]
    }
   ],
   "source": [
    "\n",
    "stocknews_list = []\n",
    "for ticker in list_undervalued_tickers:\n",
    "    stocknews = get_recent_ticker_news(ticker)\n",
    "    stocknews = get_ticker_news_sentiment(stocknews)\n",
    "\n",
    "    if stocknews is not None:\n",
    "        stocknews_list.append(stocknews)\n",
    "        #generate_csv(stocknews,ticker)\n",
    "    else:\n",
    "        print(f'No news found for {ticker}')\n",
    "    print(f'{ticker} News sentiment analysis done, {len(list_undervalued_tickers) - list_undervalued_tickers.index(ticker) - 1} stock tickers left')\t\n"
   ]
  },
  {
   "cell_type": "markdown",
   "metadata": {},
   "source": [
    "\n",
    "\n",
    "## Display Sentiments\n",
    "\n",
    "Finally, we display the sentiments for each ticker.\n",
    "\n"
   ]
  },
  {
   "cell_type": "code",
   "execution_count": null,
   "metadata": {},
   "outputs": [
    {
     "data": {
      "text/html": [
       "<div>\n",
       "<style scoped>\n",
       "    .dataframe tbody tr th:only-of-type {\n",
       "        vertical-align: middle;\n",
       "    }\n",
       "\n",
       "    .dataframe tbody tr th {\n",
       "        vertical-align: top;\n",
       "    }\n",
       "\n",
       "    .dataframe thead th {\n",
       "        text-align: right;\n",
       "    }\n",
       "</style>\n",
       "<table border=\"1\" class=\"dataframe\">\n",
       "  <thead>\n",
       "    <tr style=\"text-align: right;\">\n",
       "      <th></th>\n",
       "      <th>ticker</th>\n",
       "      <th>time</th>\n",
       "      <th>title</th>\n",
       "      <th>link</th>\n",
       "      <th>sentiment</th>\n",
       "      <th>sentiment_score</th>\n",
       "    </tr>\n",
       "  </thead>\n",
       "  <tbody>\n",
       "  </tbody>\n",
       "</table>\n",
       "</div>"
      ],
      "text/plain": [
       "Empty DataFrame\n",
       "Columns: [ticker, time, title, link, sentiment, sentiment_score]\n",
       "Index: []"
      ]
     },
     "metadata": {},
     "output_type": "display_data"
    },
    {
     "data": {
      "text/html": [
       "<div>\n",
       "<style scoped>\n",
       "    .dataframe tbody tr th:only-of-type {\n",
       "        vertical-align: middle;\n",
       "    }\n",
       "\n",
       "    .dataframe tbody tr th {\n",
       "        vertical-align: top;\n",
       "    }\n",
       "\n",
       "    .dataframe thead th {\n",
       "        text-align: right;\n",
       "    }\n",
       "</style>\n",
       "<table border=\"1\" class=\"dataframe\">\n",
       "  <thead>\n",
       "    <tr style=\"text-align: right;\">\n",
       "      <th></th>\n",
       "      <th>ticker</th>\n",
       "      <th>time</th>\n",
       "      <th>title</th>\n",
       "      <th>link</th>\n",
       "      <th>sentiment</th>\n",
       "      <th>sentiment_score</th>\n",
       "    </tr>\n",
       "  </thead>\n",
       "  <tbody>\n",
       "  </tbody>\n",
       "</table>\n",
       "</div>"
      ],
      "text/plain": [
       "Empty DataFrame\n",
       "Columns: [ticker, time, title, link, sentiment, sentiment_score]\n",
       "Index: []"
      ]
     },
     "metadata": {},
     "output_type": "display_data"
    },
    {
     "data": {
      "text/html": [
       "<div>\n",
       "<style scoped>\n",
       "    .dataframe tbody tr th:only-of-type {\n",
       "        vertical-align: middle;\n",
       "    }\n",
       "\n",
       "    .dataframe tbody tr th {\n",
       "        vertical-align: top;\n",
       "    }\n",
       "\n",
       "    .dataframe thead th {\n",
       "        text-align: right;\n",
       "    }\n",
       "</style>\n",
       "<table border=\"1\" class=\"dataframe\">\n",
       "  <thead>\n",
       "    <tr style=\"text-align: right;\">\n",
       "      <th></th>\n",
       "      <th>ticker</th>\n",
       "      <th>time</th>\n",
       "      <th>title</th>\n",
       "      <th>link</th>\n",
       "      <th>sentiment</th>\n",
       "      <th>sentiment_score</th>\n",
       "    </tr>\n",
       "  </thead>\n",
       "  <tbody>\n",
       "  </tbody>\n",
       "</table>\n",
       "</div>"
      ],
      "text/plain": [
       "Empty DataFrame\n",
       "Columns: [ticker, time, title, link, sentiment, sentiment_score]\n",
       "Index: []"
      ]
     },
     "metadata": {},
     "output_type": "display_data"
    },
    {
     "data": {
      "text/html": [
       "<div>\n",
       "<style scoped>\n",
       "    .dataframe tbody tr th:only-of-type {\n",
       "        vertical-align: middle;\n",
       "    }\n",
       "\n",
       "    .dataframe tbody tr th {\n",
       "        vertical-align: top;\n",
       "    }\n",
       "\n",
       "    .dataframe thead th {\n",
       "        text-align: right;\n",
       "    }\n",
       "</style>\n",
       "<table border=\"1\" class=\"dataframe\">\n",
       "  <thead>\n",
       "    <tr style=\"text-align: right;\">\n",
       "      <th></th>\n",
       "      <th>ticker</th>\n",
       "      <th>time</th>\n",
       "      <th>title</th>\n",
       "      <th>link</th>\n",
       "      <th>sentiment</th>\n",
       "      <th>sentiment_score</th>\n",
       "    </tr>\n",
       "  </thead>\n",
       "  <tbody>\n",
       "  </tbody>\n",
       "</table>\n",
       "</div>"
      ],
      "text/plain": [
       "Empty DataFrame\n",
       "Columns: [ticker, time, title, link, sentiment, sentiment_score]\n",
       "Index: []"
      ]
     },
     "metadata": {},
     "output_type": "display_data"
    },
    {
     "data": {
      "text/html": [
       "<div>\n",
       "<style scoped>\n",
       "    .dataframe tbody tr th:only-of-type {\n",
       "        vertical-align: middle;\n",
       "    }\n",
       "\n",
       "    .dataframe tbody tr th {\n",
       "        vertical-align: top;\n",
       "    }\n",
       "\n",
       "    .dataframe thead th {\n",
       "        text-align: right;\n",
       "    }\n",
       "</style>\n",
       "<table border=\"1\" class=\"dataframe\">\n",
       "  <thead>\n",
       "    <tr style=\"text-align: right;\">\n",
       "      <th></th>\n",
       "      <th>ticker</th>\n",
       "      <th>time</th>\n",
       "      <th>title</th>\n",
       "      <th>link</th>\n",
       "      <th>sentiment</th>\n",
       "      <th>sentiment_score</th>\n",
       "    </tr>\n",
       "  </thead>\n",
       "  <tbody>\n",
       "    <tr>\n",
       "      <th>0</th>\n",
       "      <td>MLGO</td>\n",
       "      <td>2024-06-04 10:10:00</td>\n",
       "      <td>MicroAlgo Inc. (NASDAQ: MLGO) Announced to Jointly Establish a Micro-Consciousness Quantum Research Center With WIMI (NASDAQ: WIMI)</td>\n",
       "      <td>https://finance.yahoo.com/news/microalgo-inc-nasdaq-mlgo-announced-081000969.html</td>\n",
       "      <td>neutral</td>\n",
       "      <td>-0.870487</td>\n",
       "    </tr>\n",
       "  </tbody>\n",
       "</table>\n",
       "</div>"
      ],
      "text/plain": [
       "  ticker                time  \\\n",
       "0   MLGO 2024-06-04 10:10:00   \n",
       "\n",
       "                                                                                                                                 title  \\\n",
       "0  MicroAlgo Inc. (NASDAQ: MLGO) Announced to Jointly Establish a Micro-Consciousness Quantum Research Center With WIMI (NASDAQ: WIMI)   \n",
       "\n",
       "                                                                                link  \\\n",
       "0  https://finance.yahoo.com/news/microalgo-inc-nasdaq-mlgo-announced-081000969.html   \n",
       "\n",
       "  sentiment  sentiment_score  \n",
       "0   neutral        -0.870487  "
      ]
     },
     "metadata": {},
     "output_type": "display_data"
    },
    {
     "data": {
      "text/html": [
       "<div>\n",
       "<style scoped>\n",
       "    .dataframe tbody tr th:only-of-type {\n",
       "        vertical-align: middle;\n",
       "    }\n",
       "\n",
       "    .dataframe tbody tr th {\n",
       "        vertical-align: top;\n",
       "    }\n",
       "\n",
       "    .dataframe thead th {\n",
       "        text-align: right;\n",
       "    }\n",
       "</style>\n",
       "<table border=\"1\" class=\"dataframe\">\n",
       "  <thead>\n",
       "    <tr style=\"text-align: right;\">\n",
       "      <th></th>\n",
       "      <th>ticker</th>\n",
       "      <th>time</th>\n",
       "      <th>title</th>\n",
       "      <th>link</th>\n",
       "      <th>sentiment</th>\n",
       "      <th>sentiment_score</th>\n",
       "    </tr>\n",
       "  </thead>\n",
       "  <tbody>\n",
       "    <tr>\n",
       "      <th>0</th>\n",
       "      <td>MRIN</td>\n",
       "      <td>2024-06-03 23:10:00</td>\n",
       "      <td>Marin Software Announces Expanded Amazon Integration to Unlock Channel for All Advertisers</td>\n",
       "      <td>https://finance.yahoo.com/news/marin-software-announces-expanded-amazon-211000730.html</td>\n",
       "      <td>positive</td>\n",
       "      <td>0.631122</td>\n",
       "    </tr>\n",
       "  </tbody>\n",
       "</table>\n",
       "</div>"
      ],
      "text/plain": [
       "  ticker                time  \\\n",
       "0   MRIN 2024-06-03 23:10:00   \n",
       "\n",
       "                                                                                        title  \\\n",
       "0  Marin Software Announces Expanded Amazon Integration to Unlock Channel for All Advertisers   \n",
       "\n",
       "                                                                                     link  \\\n",
       "0  https://finance.yahoo.com/news/marin-software-announces-expanded-amazon-211000730.html   \n",
       "\n",
       "  sentiment  sentiment_score  \n",
       "0  positive         0.631122  "
      ]
     },
     "metadata": {},
     "output_type": "display_data"
    },
    {
     "data": {
      "text/html": [
       "<div>\n",
       "<style scoped>\n",
       "    .dataframe tbody tr th:only-of-type {\n",
       "        vertical-align: middle;\n",
       "    }\n",
       "\n",
       "    .dataframe tbody tr th {\n",
       "        vertical-align: top;\n",
       "    }\n",
       "\n",
       "    .dataframe thead th {\n",
       "        text-align: right;\n",
       "    }\n",
       "</style>\n",
       "<table border=\"1\" class=\"dataframe\">\n",
       "  <thead>\n",
       "    <tr style=\"text-align: right;\">\n",
       "      <th></th>\n",
       "      <th>ticker</th>\n",
       "      <th>time</th>\n",
       "      <th>title</th>\n",
       "      <th>link</th>\n",
       "      <th>sentiment</th>\n",
       "      <th>sentiment_score</th>\n",
       "    </tr>\n",
       "  </thead>\n",
       "  <tbody>\n",
       "  </tbody>\n",
       "</table>\n",
       "</div>"
      ],
      "text/plain": [
       "Empty DataFrame\n",
       "Columns: [ticker, time, title, link, sentiment, sentiment_score]\n",
       "Index: []"
      ]
     },
     "metadata": {},
     "output_type": "display_data"
    },
    {
     "data": {
      "text/html": [
       "<div>\n",
       "<style scoped>\n",
       "    .dataframe tbody tr th:only-of-type {\n",
       "        vertical-align: middle;\n",
       "    }\n",
       "\n",
       "    .dataframe tbody tr th {\n",
       "        vertical-align: top;\n",
       "    }\n",
       "\n",
       "    .dataframe thead th {\n",
       "        text-align: right;\n",
       "    }\n",
       "</style>\n",
       "<table border=\"1\" class=\"dataframe\">\n",
       "  <thead>\n",
       "    <tr style=\"text-align: right;\">\n",
       "      <th></th>\n",
       "      <th>ticker</th>\n",
       "      <th>time</th>\n",
       "      <th>title</th>\n",
       "      <th>link</th>\n",
       "      <th>sentiment</th>\n",
       "      <th>sentiment_score</th>\n",
       "    </tr>\n",
       "  </thead>\n",
       "  <tbody>\n",
       "    <tr>\n",
       "      <th>0</th>\n",
       "      <td>SILO</td>\n",
       "      <td>2024-06-04 14:41:00</td>\n",
       "      <td>Silo Pharma Submits Pre-Investigational New Drug Application to FDA for SPC-15 as a Treatment for PTSD and Anxiety</td>\n",
       "      <td>https://finance.yahoo.com/news/silo-pharma-submits-pre-investigational-124100723.html</td>\n",
       "      <td>positive</td>\n",
       "      <td>0.579352</td>\n",
       "    </tr>\n",
       "  </tbody>\n",
       "</table>\n",
       "</div>"
      ],
      "text/plain": [
       "  ticker                time  \\\n",
       "0   SILO 2024-06-04 14:41:00   \n",
       "\n",
       "                                                                                                                title  \\\n",
       "0  Silo Pharma Submits Pre-Investigational New Drug Application to FDA for SPC-15 as a Treatment for PTSD and Anxiety   \n",
       "\n",
       "                                                                                    link  \\\n",
       "0  https://finance.yahoo.com/news/silo-pharma-submits-pre-investigational-124100723.html   \n",
       "\n",
       "  sentiment  sentiment_score  \n",
       "0  positive         0.579352  "
      ]
     },
     "metadata": {},
     "output_type": "display_data"
    },
    {
     "data": {
      "text/html": [
       "<div>\n",
       "<style scoped>\n",
       "    .dataframe tbody tr th:only-of-type {\n",
       "        vertical-align: middle;\n",
       "    }\n",
       "\n",
       "    .dataframe tbody tr th {\n",
       "        vertical-align: top;\n",
       "    }\n",
       "\n",
       "    .dataframe thead th {\n",
       "        text-align: right;\n",
       "    }\n",
       "</style>\n",
       "<table border=\"1\" class=\"dataframe\">\n",
       "  <thead>\n",
       "    <tr style=\"text-align: right;\">\n",
       "      <th></th>\n",
       "      <th>ticker</th>\n",
       "      <th>time</th>\n",
       "      <th>title</th>\n",
       "      <th>link</th>\n",
       "      <th>sentiment</th>\n",
       "      <th>sentiment_score</th>\n",
       "    </tr>\n",
       "  </thead>\n",
       "  <tbody>\n",
       "    <tr>\n",
       "      <th>0</th>\n",
       "      <td>SSY</td>\n",
       "      <td>2024-06-03 23:20:00</td>\n",
       "      <td>SunLink Health Systems, Inc. Announces Sale of Trace Extended Care &amp; Rehab</td>\n",
       "      <td>https://finance.yahoo.com/news/sunlink-health-systems-inc-announces-212000561.html</td>\n",
       "      <td>neutral</td>\n",
       "      <td>-0.906956</td>\n",
       "    </tr>\n",
       "  </tbody>\n",
       "</table>\n",
       "</div>"
      ],
      "text/plain": [
       "  ticker                time  \\\n",
       "0    SSY 2024-06-03 23:20:00   \n",
       "\n",
       "                                                                        title  \\\n",
       "0  SunLink Health Systems, Inc. Announces Sale of Trace Extended Care & Rehab   \n",
       "\n",
       "                                                                                 link  \\\n",
       "0  https://finance.yahoo.com/news/sunlink-health-systems-inc-announces-212000561.html   \n",
       "\n",
       "  sentiment  sentiment_score  \n",
       "0   neutral        -0.906956  "
      ]
     },
     "metadata": {},
     "output_type": "display_data"
    }
   ],
   "source": [
    "\n",
    "for ticker in stocknews_list:\n",
    "    ticker = ticker.loc[:, ticker.columns != 'text']\n",
    "    display(ticker)"
   ]
  },
  {
   "cell_type": "markdown",
   "metadata": {},
   "source": [
    "\n",
    "\n",
    "## Additional Code\n",
    "\n",
    "The following code snippets are not integrated into the main flow of the notebook but can be used for additional analysis.\n",
    "\n"
   ]
  },
  {
   "cell_type": "code",
   "execution_count": null,
   "metadata": {},
   "outputs": [
    {
     "data": {
      "text/plain": [
       "\"\\nquote = finvizfinance('SGE')\\ndf = quote.ticker_inside_trader()\\nfrom datetime import datetime\\ntoday = datetime.today().date()\\ndf = quote.ticker_news()\\ndf = df[df['Date'].dt.date == today]\\ndf\\ndf = quote.ticker_fundament()\\ndf\\n\""
      ]
     },
     "execution_count": 12,
     "metadata": {},
     "output_type": "execute_result"
    }
   ],
   "source": [
    "'''\n",
    "quote = finvizfinance('SGE')\n",
    "df = quote.ticker_inside_trader()\n",
    "from datetime import datetime\n",
    "today = datetime.today().date()\n",
    "df = quote.ticker_news()\n",
    "df = df[df['Date'].dt.date == today]\n",
    "df\n",
    "df = quote.ticker_fundament()\n",
    "df\n",
    "'''"
   ]
  }
 ],
 "metadata": {
  "kernelspec": {
   "display_name": "Python 3",
   "language": "python",
   "name": "python3"
  },
  "language_info": {
   "codemirror_mode": {
    "name": "ipython",
    "version": 3
   },
   "file_extension": ".py",
   "mimetype": "text/x-python",
   "name": "python",
   "nbconvert_exporter": "python",
   "pygments_lexer": "ipython3",
   "version": "3.12.4"
  }
 },
 "nbformat": 4,
 "nbformat_minor": 2
}
