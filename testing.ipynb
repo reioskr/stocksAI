{
 "cells": [
  {
   "cell_type": "code",
   "execution_count": null,
   "metadata": {},
   "outputs": [],
   "source": [
    "import requests\n",
    "import pandas as pd\n",
    "\n",
    "api_key = 'AU0MKELIX46J1ZXI'\n",
    "symbol = 'AAPL'\n",
    "interval = '1min'  # Can be '1min', '5min', etc.\n",
    "\n",
    "\n",
    "function = 'TIME_SERIES_INTRADAY'\n",
    "url = f'https://www.alphavantage.co/query?function={function}&symbol={symbol}&interval={interval}&apikey={api_key}&datatype=csv'\n",
    "\n",
    "response = requests.get(url)\n",
    "with open(f'{symbol}_{interval}.csv', 'wb') as file:\n",
    "    file.write(response.content)\n",
    "\n",
    "# Load into a DataFrame for further processing\n",
    "df = pd.read_csv(f'{symbol}_{interval}.csv')\n",
    "print(df.head())\n"
   ]
  }
 ],
 "metadata": {
  "language_info": {
   "name": "python"
  }
 },
 "nbformat": 4,
 "nbformat_minor": 2
}
